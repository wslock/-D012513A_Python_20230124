{
  "cells": [
    {
      "cell_type": "markdown",
      "metadata": {
        "id": "view-in-github",
        "colab_type": "text"
      },
      "source": [
        "<a href=\"https://colab.research.google.com/github/wslock/-D012513A_Python_20230124/blob/main/Practical%20Python%20Specialized%20Bioinformatics%2020230124%20solution.ipynb\" target=\"_parent\"><img src=\"https://colab.research.google.com/assets/colab-badge.svg\" alt=\"Open In Colab\"/></a>"
      ]
    },
    {
      "cell_type": "markdown",
      "id": "7c6c3aa8",
      "metadata": {
        "id": "7c6c3aa8"
      },
      "source": [
        "# Practical Python Specialized Bioinformatics\n",
        "\n",
        "#### 24/01/2023\n",
        "\n",
        "For this exam you are asked to complete the Python code between the \n",
        "\n",
        "```\n",
        "#start code here\n",
        "\n",
        "#end code here\n",
        "```\n",
        "\n",
        "comments. \n",
        "\n",
        "A direct question needs to be answered in the text field just below the question.\n",
        "\n",
        "Don't forget to periodically save your work to your GitHub repository. \n",
        "\n",
        "Please write your name and studentnumber in the text box below:"
      ]
    },
    {
      "cell_type": "markdown",
      "id": "baed05fc",
      "metadata": {
        "id": "baed05fc"
      },
      "source": [
        "### Name: Warre Slock\n",
        "\n",
        "### Number: 01903407"
      ]
    },
    {
      "cell_type": "markdown",
      "id": "d7fdf038",
      "metadata": {
        "id": "d7fdf038"
      },
      "source": [
        "### Total points:    / 25"
      ]
    },
    {
      "cell_type": "code",
      "execution_count": 1,
      "id": "091354ed",
      "metadata": {
        "id": "091354ed"
      },
      "outputs": [],
      "source": [
        "import warnings;\n",
        "warnings.filterwarnings('ignore');\n",
        "\n",
        "import pandas as pd"
      ]
    },
    {
      "cell_type": "markdown",
      "id": "ee6c91c4",
      "metadata": {
        "id": "ee6c91c4"
      },
      "source": [
        "**question 1 (2pts)**\n",
        "\n",
        "Create a Pandas DataFrame called `patients` that looks like this:\n",
        "\n",
        "|           | gene_1 | gene_2 |\n",
        "|-----------|--------|--------|\n",
        "| patient_1 | 0.54   | 0.32   |\n",
        "| patient_2 | 0.66   | 0.10   |"
      ]
    },
    {
      "cell_type": "code",
      "execution_count": 3,
      "id": "13ce1b31",
      "metadata": {
        "id": "13ce1b31",
        "colab": {
          "base_uri": "https://localhost:8080/",
          "height": 112
        },
        "outputId": "ca87964f-4190-48f9-8778-b31d1f857523"
      },
      "outputs": [
        {
          "output_type": "execute_result",
          "data": {
            "text/plain": [
              "          gene_1  gene_2\n",
              "patient1    0.54    0.32\n",
              "patient2    0.66    0.10"
            ],
            "text/html": [
              "\n",
              "  <div id=\"df-f9244bfc-88bf-4df7-9af7-5dcf99ccef70\">\n",
              "    <div class=\"colab-df-container\">\n",
              "      <div>\n",
              "<style scoped>\n",
              "    .dataframe tbody tr th:only-of-type {\n",
              "        vertical-align: middle;\n",
              "    }\n",
              "\n",
              "    .dataframe tbody tr th {\n",
              "        vertical-align: top;\n",
              "    }\n",
              "\n",
              "    .dataframe thead th {\n",
              "        text-align: right;\n",
              "    }\n",
              "</style>\n",
              "<table border=\"1\" class=\"dataframe\">\n",
              "  <thead>\n",
              "    <tr style=\"text-align: right;\">\n",
              "      <th></th>\n",
              "      <th>gene_1</th>\n",
              "      <th>gene_2</th>\n",
              "    </tr>\n",
              "  </thead>\n",
              "  <tbody>\n",
              "    <tr>\n",
              "      <th>patient1</th>\n",
              "      <td>0.54</td>\n",
              "      <td>0.32</td>\n",
              "    </tr>\n",
              "    <tr>\n",
              "      <th>patient2</th>\n",
              "      <td>0.66</td>\n",
              "      <td>0.10</td>\n",
              "    </tr>\n",
              "  </tbody>\n",
              "</table>\n",
              "</div>\n",
              "      <button class=\"colab-df-convert\" onclick=\"convertToInteractive('df-f9244bfc-88bf-4df7-9af7-5dcf99ccef70')\"\n",
              "              title=\"Convert this dataframe to an interactive table.\"\n",
              "              style=\"display:none;\">\n",
              "        \n",
              "  <svg xmlns=\"http://www.w3.org/2000/svg\" height=\"24px\"viewBox=\"0 0 24 24\"\n",
              "       width=\"24px\">\n",
              "    <path d=\"M0 0h24v24H0V0z\" fill=\"none\"/>\n",
              "    <path d=\"M18.56 5.44l.94 2.06.94-2.06 2.06-.94-2.06-.94-.94-2.06-.94 2.06-2.06.94zm-11 1L8.5 8.5l.94-2.06 2.06-.94-2.06-.94L8.5 2.5l-.94 2.06-2.06.94zm10 10l.94 2.06.94-2.06 2.06-.94-2.06-.94-.94-2.06-.94 2.06-2.06.94z\"/><path d=\"M17.41 7.96l-1.37-1.37c-.4-.4-.92-.59-1.43-.59-.52 0-1.04.2-1.43.59L10.3 9.45l-7.72 7.72c-.78.78-.78 2.05 0 2.83L4 21.41c.39.39.9.59 1.41.59.51 0 1.02-.2 1.41-.59l7.78-7.78 2.81-2.81c.8-.78.8-2.07 0-2.86zM5.41 20L4 18.59l7.72-7.72 1.47 1.35L5.41 20z\"/>\n",
              "  </svg>\n",
              "      </button>\n",
              "      \n",
              "  <style>\n",
              "    .colab-df-container {\n",
              "      display:flex;\n",
              "      flex-wrap:wrap;\n",
              "      gap: 12px;\n",
              "    }\n",
              "\n",
              "    .colab-df-convert {\n",
              "      background-color: #E8F0FE;\n",
              "      border: none;\n",
              "      border-radius: 50%;\n",
              "      cursor: pointer;\n",
              "      display: none;\n",
              "      fill: #1967D2;\n",
              "      height: 32px;\n",
              "      padding: 0 0 0 0;\n",
              "      width: 32px;\n",
              "    }\n",
              "\n",
              "    .colab-df-convert:hover {\n",
              "      background-color: #E2EBFA;\n",
              "      box-shadow: 0px 1px 2px rgba(60, 64, 67, 0.3), 0px 1px 3px 1px rgba(60, 64, 67, 0.15);\n",
              "      fill: #174EA6;\n",
              "    }\n",
              "\n",
              "    [theme=dark] .colab-df-convert {\n",
              "      background-color: #3B4455;\n",
              "      fill: #D2E3FC;\n",
              "    }\n",
              "\n",
              "    [theme=dark] .colab-df-convert:hover {\n",
              "      background-color: #434B5C;\n",
              "      box-shadow: 0px 1px 3px 1px rgba(0, 0, 0, 0.15);\n",
              "      filter: drop-shadow(0px 1px 2px rgba(0, 0, 0, 0.3));\n",
              "      fill: #FFFFFF;\n",
              "    }\n",
              "  </style>\n",
              "\n",
              "      <script>\n",
              "        const buttonEl =\n",
              "          document.querySelector('#df-f9244bfc-88bf-4df7-9af7-5dcf99ccef70 button.colab-df-convert');\n",
              "        buttonEl.style.display =\n",
              "          google.colab.kernel.accessAllowed ? 'block' : 'none';\n",
              "\n",
              "        async function convertToInteractive(key) {\n",
              "          const element = document.querySelector('#df-f9244bfc-88bf-4df7-9af7-5dcf99ccef70');\n",
              "          const dataTable =\n",
              "            await google.colab.kernel.invokeFunction('convertToInteractive',\n",
              "                                                     [key], {});\n",
              "          if (!dataTable) return;\n",
              "\n",
              "          const docLinkHtml = 'Like what you see? Visit the ' +\n",
              "            '<a target=\"_blank\" href=https://colab.research.google.com/notebooks/data_table.ipynb>data table notebook</a>'\n",
              "            + ' to learn more about interactive tables.';\n",
              "          element.innerHTML = '';\n",
              "          dataTable['output_type'] = 'display_data';\n",
              "          await google.colab.output.renderOutput(dataTable, element);\n",
              "          const docLink = document.createElement('div');\n",
              "          docLink.innerHTML = docLinkHtml;\n",
              "          element.appendChild(docLink);\n",
              "        }\n",
              "      </script>\n",
              "    </div>\n",
              "  </div>\n",
              "  "
            ]
          },
          "metadata": {},
          "execution_count": 3
        }
      ],
      "source": [
        "#start code here\n",
        "\n",
        "patients = pd.DataFrame({'gene_1':[0.54, 0.66], 'gene_2':[0.32, 0.10]}, index=['patient1', 'patient2'])\n",
        "\n",
        "#end code here\n",
        "\n",
        "patients"
      ]
    },
    {
      "cell_type": "markdown",
      "id": "e9298a19",
      "metadata": {
        "id": "e9298a19"
      },
      "source": [
        "**question 2 (1pt)**\n",
        "\n",
        "Use the Pandas DataFrame `.head()` function to print the first row of the `patients` DataFrame."
      ]
    },
    {
      "cell_type": "code",
      "execution_count": 4,
      "id": "53a0fe40",
      "metadata": {
        "id": "53a0fe40",
        "colab": {
          "base_uri": "https://localhost:8080/",
          "height": 112
        },
        "outputId": "f6a012d2-2b34-45fb-e781-bbfd096bd297"
      },
      "outputs": [
        {
          "output_type": "execute_result",
          "data": {
            "text/plain": [
              "          gene_1  gene_2\n",
              "patient1    0.54    0.32\n",
              "patient2    0.66    0.10"
            ],
            "text/html": [
              "\n",
              "  <div id=\"df-5dde1005-b1de-42aa-b0a1-fc56d1c49021\">\n",
              "    <div class=\"colab-df-container\">\n",
              "      <div>\n",
              "<style scoped>\n",
              "    .dataframe tbody tr th:only-of-type {\n",
              "        vertical-align: middle;\n",
              "    }\n",
              "\n",
              "    .dataframe tbody tr th {\n",
              "        vertical-align: top;\n",
              "    }\n",
              "\n",
              "    .dataframe thead th {\n",
              "        text-align: right;\n",
              "    }\n",
              "</style>\n",
              "<table border=\"1\" class=\"dataframe\">\n",
              "  <thead>\n",
              "    <tr style=\"text-align: right;\">\n",
              "      <th></th>\n",
              "      <th>gene_1</th>\n",
              "      <th>gene_2</th>\n",
              "    </tr>\n",
              "  </thead>\n",
              "  <tbody>\n",
              "    <tr>\n",
              "      <th>patient1</th>\n",
              "      <td>0.54</td>\n",
              "      <td>0.32</td>\n",
              "    </tr>\n",
              "    <tr>\n",
              "      <th>patient2</th>\n",
              "      <td>0.66</td>\n",
              "      <td>0.10</td>\n",
              "    </tr>\n",
              "  </tbody>\n",
              "</table>\n",
              "</div>\n",
              "      <button class=\"colab-df-convert\" onclick=\"convertToInteractive('df-5dde1005-b1de-42aa-b0a1-fc56d1c49021')\"\n",
              "              title=\"Convert this dataframe to an interactive table.\"\n",
              "              style=\"display:none;\">\n",
              "        \n",
              "  <svg xmlns=\"http://www.w3.org/2000/svg\" height=\"24px\"viewBox=\"0 0 24 24\"\n",
              "       width=\"24px\">\n",
              "    <path d=\"M0 0h24v24H0V0z\" fill=\"none\"/>\n",
              "    <path d=\"M18.56 5.44l.94 2.06.94-2.06 2.06-.94-2.06-.94-.94-2.06-.94 2.06-2.06.94zm-11 1L8.5 8.5l.94-2.06 2.06-.94-2.06-.94L8.5 2.5l-.94 2.06-2.06.94zm10 10l.94 2.06.94-2.06 2.06-.94-2.06-.94-.94-2.06-.94 2.06-2.06.94z\"/><path d=\"M17.41 7.96l-1.37-1.37c-.4-.4-.92-.59-1.43-.59-.52 0-1.04.2-1.43.59L10.3 9.45l-7.72 7.72c-.78.78-.78 2.05 0 2.83L4 21.41c.39.39.9.59 1.41.59.51 0 1.02-.2 1.41-.59l7.78-7.78 2.81-2.81c.8-.78.8-2.07 0-2.86zM5.41 20L4 18.59l7.72-7.72 1.47 1.35L5.41 20z\"/>\n",
              "  </svg>\n",
              "      </button>\n",
              "      \n",
              "  <style>\n",
              "    .colab-df-container {\n",
              "      display:flex;\n",
              "      flex-wrap:wrap;\n",
              "      gap: 12px;\n",
              "    }\n",
              "\n",
              "    .colab-df-convert {\n",
              "      background-color: #E8F0FE;\n",
              "      border: none;\n",
              "      border-radius: 50%;\n",
              "      cursor: pointer;\n",
              "      display: none;\n",
              "      fill: #1967D2;\n",
              "      height: 32px;\n",
              "      padding: 0 0 0 0;\n",
              "      width: 32px;\n",
              "    }\n",
              "\n",
              "    .colab-df-convert:hover {\n",
              "      background-color: #E2EBFA;\n",
              "      box-shadow: 0px 1px 2px rgba(60, 64, 67, 0.3), 0px 1px 3px 1px rgba(60, 64, 67, 0.15);\n",
              "      fill: #174EA6;\n",
              "    }\n",
              "\n",
              "    [theme=dark] .colab-df-convert {\n",
              "      background-color: #3B4455;\n",
              "      fill: #D2E3FC;\n",
              "    }\n",
              "\n",
              "    [theme=dark] .colab-df-convert:hover {\n",
              "      background-color: #434B5C;\n",
              "      box-shadow: 0px 1px 3px 1px rgba(0, 0, 0, 0.15);\n",
              "      filter: drop-shadow(0px 1px 2px rgba(0, 0, 0, 0.3));\n",
              "      fill: #FFFFFF;\n",
              "    }\n",
              "  </style>\n",
              "\n",
              "      <script>\n",
              "        const buttonEl =\n",
              "          document.querySelector('#df-5dde1005-b1de-42aa-b0a1-fc56d1c49021 button.colab-df-convert');\n",
              "        buttonEl.style.display =\n",
              "          google.colab.kernel.accessAllowed ? 'block' : 'none';\n",
              "\n",
              "        async function convertToInteractive(key) {\n",
              "          const element = document.querySelector('#df-5dde1005-b1de-42aa-b0a1-fc56d1c49021');\n",
              "          const dataTable =\n",
              "            await google.colab.kernel.invokeFunction('convertToInteractive',\n",
              "                                                     [key], {});\n",
              "          if (!dataTable) return;\n",
              "\n",
              "          const docLinkHtml = 'Like what you see? Visit the ' +\n",
              "            '<a target=\"_blank\" href=https://colab.research.google.com/notebooks/data_table.ipynb>data table notebook</a>'\n",
              "            + ' to learn more about interactive tables.';\n",
              "          element.innerHTML = '';\n",
              "          dataTable['output_type'] = 'display_data';\n",
              "          await google.colab.output.renderOutput(dataTable, element);\n",
              "          const docLink = document.createElement('div');\n",
              "          docLink.innerHTML = docLinkHtml;\n",
              "          element.appendChild(docLink);\n",
              "        }\n",
              "      </script>\n",
              "    </div>\n",
              "  </div>\n",
              "  "
            ]
          },
          "metadata": {},
          "execution_count": 4
        }
      ],
      "source": [
        "#start code here\n",
        "patients.head()\n",
        "#end code here"
      ]
    },
    {
      "cell_type": "markdown",
      "id": "b6f7cdd9",
      "metadata": {
        "id": "b6f7cdd9"
      },
      "source": [
        "The following code loads the dataset we will use for this exam."
      ]
    },
    {
      "cell_type": "code",
      "execution_count": null,
      "id": "052146c0",
      "metadata": {
        "id": "052146c0"
      },
      "outputs": [],
      "source": [
        "from sklearn.datasets import load_breast_cancer\n",
        "dataset = load_breast_cancer(as_frame=True).frame\n",
        "dataset.rename(columns = {'target':'label'}, inplace = True)"
      ]
    },
    {
      "cell_type": "markdown",
      "id": "79a82a67",
      "metadata": {
        "id": "79a82a67"
      },
      "source": [
        "**question 3 (1pt)**\n",
        "    \n",
        "Print the number of rows and columns in the `dataset` DataFrame."
      ]
    },
    {
      "cell_type": "code",
      "execution_count": null,
      "id": "1cca640f",
      "metadata": {
        "id": "1cca640f"
      },
      "outputs": [],
      "source": [
        "#start code here\n",
        "\n",
        "print(\"Number of rows = {}\".format()\n",
        "print(\"Number of columns = {}\".format()\n",
        "\n",
        "#end code here"
      ]
    },
    {
      "cell_type": "markdown",
      "id": "85a5fe48",
      "metadata": {
        "id": "85a5fe48"
      },
      "source": [
        "**question 4 (1pt)**\n",
        "\n",
        "Print the column `label` from the `dataset` DataFrame. Don't use `.loc` or `.iloc`."
      ]
    },
    {
      "cell_type": "code",
      "execution_count": null,
      "id": "bdf7b4ee",
      "metadata": {
        "id": "bdf7b4ee"
      },
      "outputs": [],
      "source": [
        "#start code here\n",
        "\n",
        "#end code here"
      ]
    },
    {
      "cell_type": "markdown",
      "id": "954fb49c",
      "metadata": {
        "id": "954fb49c"
      },
      "source": [
        "**question 5 (1pt)**\n",
        "\n",
        "Print the column `label` from the `dataset` DataFrame using `.loc`."
      ]
    },
    {
      "cell_type": "code",
      "execution_count": null,
      "id": "041a0b39",
      "metadata": {
        "id": "041a0b39"
      },
      "outputs": [],
      "source": [
        "#start code here\n",
        "\n",
        "#end code here"
      ]
    },
    {
      "cell_type": "markdown",
      "id": "931ebfcf",
      "metadata": {
        "id": "931ebfcf"
      },
      "source": [
        "**question 6 (1pt)**\n",
        "\n",
        "Print the column `label` from the `dataset` DataFrame using `.iloc`."
      ]
    },
    {
      "cell_type": "code",
      "execution_count": null,
      "id": "c8baf189",
      "metadata": {
        "id": "c8baf189"
      },
      "outputs": [],
      "source": [
        "#start code here\n",
        "\n",
        "#end code here"
      ]
    },
    {
      "cell_type": "markdown",
      "id": "74899111",
      "metadata": {
        "id": "74899111"
      },
      "source": [
        "**question 7 (1pt)**\n",
        "\n",
        "Print the label of the third row in the `dataset` DataFrame."
      ]
    },
    {
      "cell_type": "code",
      "execution_count": null,
      "id": "b8d347a0",
      "metadata": {
        "id": "b8d347a0"
      },
      "outputs": [],
      "source": [
        "#start code here\n",
        "\n",
        "#end code here"
      ]
    },
    {
      "cell_type": "markdown",
      "id": "573545a0",
      "metadata": {
        "id": "573545a0"
      },
      "source": [
        "**question 8 (1pt)**\n",
        "\n",
        "Print the subset of the `dataset` DataFrame that only contains the columns in the Python list `cols_to_print`. You have to use the `cols_to_print` list in the code that creates the subset."
      ]
    },
    {
      "cell_type": "code",
      "execution_count": null,
      "id": "ccd23fd0",
      "metadata": {
        "id": "ccd23fd0"
      },
      "outputs": [],
      "source": [
        "cols_to_print = ['mean area','mean concavity','mean symmetry','label']\n",
        "\n",
        "#start code here\n",
        "\n",
        "#end code here"
      ]
    },
    {
      "cell_type": "markdown",
      "id": "e4572d5f",
      "metadata": {
        "id": "e4572d5f"
      },
      "source": [
        "**question 9 (2pts)**\n",
        "\n",
        "Print all the rows in the `dataset` DataFrame with `mean symmetry` > 0.2 and `label` equal to 1."
      ]
    },
    {
      "cell_type": "code",
      "execution_count": null,
      "id": "ea1c4d32",
      "metadata": {
        "id": "ea1c4d32"
      },
      "outputs": [],
      "source": [
        "#start code here\n",
        "\n",
        "#end code here"
      ]
    },
    {
      "cell_type": "markdown",
      "id": "c576b9a9",
      "metadata": {
        "id": "c576b9a9"
      },
      "source": [
        "**question 10 (2pts)**\n",
        "\n",
        "Print the median of the `area error` column in `dataset` for all rows with `label` equal to 1."
      ]
    },
    {
      "cell_type": "code",
      "execution_count": null,
      "id": "fb196c3e",
      "metadata": {
        "id": "fb196c3e"
      },
      "outputs": [],
      "source": [
        "#start code here\n",
        "\n",
        "#end code here"
      ]
    },
    {
      "cell_type": "markdown",
      "id": "0a625d48",
      "metadata": {
        "id": "0a625d48"
      },
      "source": [
        "**question 11 (3pts)**\n",
        "\n",
        "Create a Pandes Series called `mean_area_ordinal` that, for each row in `dataset`, contains the value `low` if the value for `mean area` is within [0,420[, the value `middle` if the value for `mean area` is within [420,550[ and the value `high` if the value for `mean area` is larger of equal to 550. Use the `.apply()` function."
      ]
    },
    {
      "cell_type": "code",
      "execution_count": null,
      "id": "2646a5bd",
      "metadata": {
        "id": "2646a5bd"
      },
      "outputs": [],
      "source": [
        "#start code here\n",
        "    \n",
        "#end code here\n",
        "\n",
        "print(mean_area_ordinal)"
      ]
    },
    {
      "cell_type": "markdown",
      "id": "dbab0bde",
      "metadata": {
        "id": "dbab0bde"
      },
      "source": [
        "**question 12 (1pt)**\n",
        "\n",
        "Write one line of code that shows how many datapoints in `mean_area_ordinal` have value `high`, how many have value `middle` and how many have value `low`."
      ]
    },
    {
      "cell_type": "code",
      "execution_count": null,
      "id": "e387506b",
      "metadata": {
        "id": "e387506b"
      },
      "outputs": [],
      "source": [
        "#start code here\n",
        "\n",
        "#end code here"
      ]
    },
    {
      "cell_type": "markdown",
      "id": "973b3fcc",
      "metadata": {
        "id": "973b3fcc"
      },
      "source": [
        "**question 13 (2pts)**\n",
        "\n",
        "To prepare for Scikit-learn model fitting we need to keep the feature vectors and the label separate. Create a variable `X` that contains all the 30 features in `dataset` and a variable `y` that contains the label."
      ]
    },
    {
      "cell_type": "code",
      "execution_count": null,
      "id": "4c967ed2",
      "metadata": {
        "id": "4c967ed2"
      },
      "outputs": [],
      "source": [
        "#start code here\n",
        "\n",
        "X = \n",
        "y = \n",
        "\n",
        "#start code here\n",
        "\n",
        "print(X.shape)\n",
        "print(y.shape)"
      ]
    },
    {
      "cell_type": "markdown",
      "id": "ceba47f8",
      "metadata": {
        "id": "ceba47f8"
      },
      "source": [
        "**question 14 (1pt)**\n",
        "\n",
        "Use the Scikit-learn `StandardScaler` to standardize the feature values in `X` (assign the result to `X_norm`)."
      ]
    },
    {
      "cell_type": "code",
      "execution_count": null,
      "id": "9c5c5ea7",
      "metadata": {
        "id": "9c5c5ea7"
      },
      "outputs": [],
      "source": [
        "from sklearn.preprocessing import StandardScaler\n",
        "\n",
        "#start code here\n",
        "\n",
        "X_norm = \n",
        "\n",
        "#start code here\n",
        "\n",
        "print(X_norm)"
      ]
    },
    {
      "cell_type": "markdown",
      "id": "c4266c19",
      "metadata": {
        "id": "c4266c19"
      },
      "source": [
        "**question 15 (1pt)**\n",
        "\n",
        "What does the following code do? What is in `X_train`, `X_test`, `y_train` and `y_test`?"
      ]
    },
    {
      "cell_type": "code",
      "execution_count": null,
      "id": "1dc3253d",
      "metadata": {
        "id": "1dc3253d"
      },
      "outputs": [],
      "source": [
        "from sklearn.model_selection import train_test_split\n",
        "\n",
        "X_train, X_test, y_train, y_test = train_test_split(X_norm, y, test_size=0.2, random_state=0)"
      ]
    },
    {
      "cell_type": "markdown",
      "id": "1653901a",
      "metadata": {
        "id": "1653901a"
      },
      "source": [
        "*Answer here*"
      ]
    },
    {
      "cell_type": "markdown",
      "id": "99d0e199",
      "metadata": {
        "id": "99d0e199"
      },
      "source": [
        "**question 16 (2pts)**\n",
        "\n",
        "Use the training set to compute the opimal values for the modelparameters in a Logistic Regression model (with hyperparameter `random_state` set to 1, all other hyperparameter values should be set to their Scikit-learn default values)."
      ]
    },
    {
      "cell_type": "code",
      "execution_count": null,
      "id": "f3d95d86",
      "metadata": {
        "id": "f3d95d86"
      },
      "outputs": [],
      "source": [
        "from sklearn.linear_model import LogisticRegression\n",
        "\n",
        "#start code here\n",
        "\n",
        "#end code here"
      ]
    },
    {
      "cell_type": "markdown",
      "id": "e7d2893d",
      "metadata": {
        "id": "e7d2893d"
      },
      "source": [
        "**question 17 (2pts)**\n",
        "\n",
        "Given the fitted model, compute predictions on the test set and compute the Area Under the Receiver Operating Characteristic curve (AUC) for these predictions."
      ]
    },
    {
      "cell_type": "code",
      "execution_count": null,
      "id": "13060c64",
      "metadata": {
        "id": "13060c64"
      },
      "outputs": [],
      "source": [
        "from sklearn.metrics import roc_auc_score\n",
        "\n",
        "#start code here\n",
        "\n",
        "predictions = \n",
        "score_auc = \n",
        "\n",
        "#end code here\n",
        "\n",
        "print(score_auc)"
      ]
    }
  ],
  "metadata": {
    "colab": {
      "provenance": [],
      "include_colab_link": true
    },
    "kernelspec": {
      "display_name": "Python 3 (ipykernel)",
      "language": "python",
      "name": "python3"
    },
    "language_info": {
      "codemirror_mode": {
        "name": "ipython",
        "version": 3
      },
      "file_extension": ".py",
      "mimetype": "text/x-python",
      "name": "python",
      "nbconvert_exporter": "python",
      "pygments_lexer": "ipython3",
      "version": "3.9.13"
    }
  },
  "nbformat": 4,
  "nbformat_minor": 5
}